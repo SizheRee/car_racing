{
 "cells": [
  {
   "cell_type": "code",
   "execution_count": 12,
   "id": "985bce65",
   "metadata": {},
   "outputs": [],
   "source": [
    "#!/usr/bin/env python3\n",
    "import gym\n",
    "\n",
    "import argparse\n",
    "import shlex\n",
    "import time\n",
    "import numpy as np\n",
    "\n",
    "import torch\n",
    "import torch.nn as nn\n",
    "import torch.optim as optim\n",
    "\n",
    "from tensorboardX import SummaryWriter\n",
    "\n",
    "from lib import dqn_model\n",
    "import utils\n",
    "import envs\n",
    "\n",
    "\n",
    "from IPython import display\n",
    "import matplotlib.pyplot as plt\n",
    "%matplotlib inline\n"
   ]
  },
  {
   "cell_type": "code",
   "execution_count": 3,
   "id": "0bdef340",
   "metadata": {},
   "outputs": [],
   "source": [
    "DEFAULT_ENV_NAME = \"CarRacing-v2\"\n",
    "MEAN_REWARD_BOUND = 600\n",
    "\n",
    "GAMMA = 0.99\n",
    "BATCH_SIZE = 64\n",
    "REPLAY_SIZE = 200 #10000\n",
    "LEARNING_RATE = 1e-4\n",
    "SYNC_TARGET_FRAMES = 200\n",
    "REPLAY_START_SIZE = 200 #10000\n",
    "\n",
    "EPSILON_DECAY_LAST_FRAME = 2000 #150000\n",
    "EPSILON_START = 0.9\n",
    "EPSILON_FINAL = 0.01\n",
    "\n",
    "OBSERVATION_SHAPE = (4,96,96)\n",
    "ACTIONSPACE_SIZE = 5"
   ]
  },
  {
   "cell_type": "code",
   "execution_count": 19,
   "id": "a0d7ce95",
   "metadata": {},
   "outputs": [],
   "source": [
    "\n",
    "parser = argparse.ArgumentParser()\n",
    "parser.add_argument(\"--cuda\", type=int, default=-1, help=\"Specify CUDA device number, default=-1 (CPU)\")\n",
    "parser.add_argument(\"--env\", default=DEFAULT_ENV_NAME, help=\"Name of the environment, default=\" + DEFAULT_ENV_NAME)\n",
    "parser.add_argument(\"--save_dir\", default=\"models\", help=\"Directory in which to save the model weights, default=models\")\n",
    "parser.add_argument(\"--checkpoint\", help=\"Path to a checkpoint file to resume training\")\n",
    "args = parser.parse_args(shlex.split(\" --checkpoint=models/CarRacing-v2-best_tar.dat \"))"
   ]
  },
  {
   "cell_type": "code",
   "execution_count": 20,
   "id": "eb1e8b7a",
   "metadata": {},
   "outputs": [],
   "source": [
    "def calc_loss(batch, net, tgt_net, device=\"cuda\"):\n",
    "    states, actions, rewards, dones, next_states = batch\n",
    "\n",
    "    states_v = torch.tensor(np.array(states, dtype=np.float32, copy=False)).to(device)\n",
    "    next_states_v = torch.tensor(np.array(next_states, dtype=np.float32, copy=False)).to(device)\n",
    "    actions_v = torch.tensor(actions).to(device)\n",
    "    rewards_v = torch.tensor(rewards).to(device)\n",
    "    done_mask = torch.BoolTensor(dones).to(device)\n",
    "\n",
    "    state_action_values = net(states_v).gather(1, actions_v.unsqueeze(-1)).squeeze(-1)\n",
    "    with torch.no_grad():\n",
    "        next_state_values = tgt_net(next_states_v).max(1)[0]\n",
    "        next_state_values[done_mask] = 0.0\n",
    "        next_state_values = next_state_values.detach()\n",
    "\n",
    "    expected_state_action_values = next_state_values * GAMMA + \\\n",
    "                                   rewards_v\n",
    "    return nn.MSELoss()(state_action_values,\n",
    "                        expected_state_action_values)"
   ]
  },
  {
   "cell_type": "code",
   "execution_count": 21,
   "id": "d881b9eb",
   "metadata": {},
   "outputs": [],
   "source": [
    "device = torch.device(\"cuda:%d\"%args.cuda if args.cuda>-1 else \"cpu\")\n",
    "env = envs.GoodWrapper(gym.make('CarRacing-v2',continuous=False, render_mode=\"rgb_array\"))\n",
    "net = dqn_model.DQN(OBSERVATION_SHAPE, ACTIONSPACE_SIZE).to(device)\n",
    "tgt_net = dqn_model.DQN(OBSERVATION_SHAPE, ACTIONSPACE_SIZE).to(device)\n",
    "buffer = utils.ExperienceBuffer(REPLAY_SIZE)\n",
    "agent = envs.Agent(env, buffer)\n",
    "\n",
    "optimizer = optim.Adam(net.parameters(), lr=LEARNING_RATE)\n",
    "epsilon = EPSILON_START\n",
    "total_rewards = []\n",
    "frame_idx = 0\n",
    "ts_frame = 0\n",
    "ts = time.time()\n",
    "best_m_reward = None"
   ]
  },
  {
   "cell_type": "code",
   "execution_count": 22,
   "id": "4579756a",
   "metadata": {},
   "outputs": [],
   "source": [
    "import logging,os\n",
    "log_dir = 'log'\n",
    "if not os.path.exists(log_dir):\n",
    "    os.makedirs(log_dir)\n",
    "logging.basicConfig(filename='log/car-racing-ipynb.log', level=logging.INFO,\n",
    "                    format='%(asctime)s - %(name)s - %(levelname)s - %(message)s')\n",
    "logger = logging.getLogger(__name__)"
   ]
  },
  {
   "cell_type": "code",
   "execution_count": 23,
   "id": "e1900a19",
   "metadata": {},
   "outputs": [
    {
     "name": "stdout",
     "output_type": "stream",
     "text": [
      "Loaded checkpoint from models/CarRacing-v2-best_tar.dat\n"
     ]
    }
   ],
   "source": [
    "if args.checkpoint:\n",
    "    net.load_state_dict(torch.load(args.checkpoint))\n",
    "    tgt_net.load_state_dict(net.state_dict())\n",
    "    logger.info(\"Loaded checkpoint from %s\" % args.checkpoint)\n",
    "    print(\"Loaded checkpoint from %s\" % args.checkpoint)"
   ]
  },
  {
   "cell_type": "code",
   "execution_count": 24,
   "id": "d18ddf8f",
   "metadata": {},
   "outputs": [],
   "source": [
    "# while(True):\n",
    "agent._reset()"
   ]
  },
  {
   "cell_type": "code",
   "execution_count": 22,
   "id": "ae35f14c",
   "metadata": {},
   "outputs": [
    {
     "data": {
      "image/png": "[encoded data removed]",
      "text/plain": [
       "<Figure size 640x480 with 1 Axes>"
      ]
     },
     "metadata": {},
     "output_type": "display_data"
    }
   ],
   "source": [
    "img = plt.imshow(env.debug_img) # only call this once\n",
    "for _ in range(500):\n",
    "    frame_idx += 1\n",
    "#     epsilon = max(EPSILON_FINAL, EPSILON_START - frame_idx / EPSILON_DECAY_LAST_FRAME)\n",
    "    epsilon = 0.01\n",
    "    reward = agent.play_step(net, epsilon, device=device)\n",
    "    \n",
    "    img.set_data(env.debug_img)\n",
    "    display.display(plt.gcf())\n",
    "    display.clear_output(wait=True)\n",
    "    if reward is not None:\n",
    "#         logger.info(\"GAME DONE frame_idx %s reward: %s epsilon: %s\", frame_idx, reward, epsilon)\n",
    "        total_rewards.append(reward)\n",
    "        speed = (frame_idx - ts_frame) / (time.time() - ts)\n",
    "        ts_frame = frame_idx\n",
    "        ts = time.time()\n",
    "        m_reward = np.mean(total_rewards[-100:])\n",
    "        print(\"%d: done %d games, reward %.3f, \"\n",
    "              \"eps %.2f, speed %.2f f/s\" % (\n",
    "            frame_idx, len(total_rewards), m_reward, epsilon, speed\n",
    "        ))\n",
    "#         writer.add_scalar(\"epsilon\", epsilon, frame_idx)\n",
    "#         writer.add_scalar(\"speed\", speed, frame_idx)\n",
    "#         writer.add_scalar(\"reward_100\", m_reward, frame_idx)\n",
    "#         writer.add_scalar(\"reward\", reward, frame_idx)\n",
    "        if best_m_reward is None or best_m_reward < m_reward:\n",
    "#             torch.save(net.state_dict(), args.env +\n",
    "#                        \"-best_%.0f.dat\" % m_reward)\n",
    "            pass\n",
    "            if best_m_reward is not None:\n",
    "                print(\"Best reward updated %.3f -> %.3f\" % (\n",
    "                    best_m_reward, m_reward))\n",
    "            best_m_reward = m_reward\n",
    "        if m_reward > MEAN_REWARD_BOUND:\n",
    "            print(\"Solved in %d frames!\" % frame_idx)\n",
    "            break\n",
    "\n",
    "    if len(buffer) < REPLAY_START_SIZE:\n",
    "        continue\n",
    "\n",
    "    if frame_idx % SYNC_TARGET_FRAMES == 0:\n",
    "        tgt_net.load_state_dict(net.state_dict())\n",
    "\n",
    "    optimizer.zero_grad()\n",
    "    batch = buffer.sample(BATCH_SIZE)\n",
    "    loss_t = calc_loss(batch, net, tgt_net, device=device)\n",
    "    loss_t.backward()\n",
    "    optimizer.step()\n",
    "# writer.close()"
   ]
  },
  {
   "cell_type": "code",
   "execution_count": null,
   "id": "851494ea",
   "metadata": {},
   "outputs": [],
   "source": []
  }
 ],
 "metadata": {
  "kernelspec": {
   "display_name": "car-racing",
   "language": "python",
   "name": "car-racing"
  },
  "language_info": {
   "codemirror_mode": {
    "name": "ipython",
    "version": 3
   },
   "file_extension": ".py",
   "mimetype": "text/x-python",
   "name": "python",
   "nbconvert_exporter": "python",
   "pygments_lexer": "ipython3",
   "version": "3.7.16"
  }
 },
 "nbformat": 4,
 "nbformat_minor": 5
}
