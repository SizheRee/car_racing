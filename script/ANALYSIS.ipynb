{
 "cells": [
  {
   "cell_type": "code",
   "execution_count": 1,
   "id": "d2c6e832",
   "metadata": {},
   "outputs": [],
   "source": [
    "from line_profiler import LineProfiler\n",
    "import random\n",
    "profiler = LineProfiler()"
   ]
  },
  {
   "cell_type": "code",
   "execution_count": 2,
   "id": "05fdd848",
   "metadata": {},
   "outputs": [],
   "source": [
    "import os\n",
    "os.chdir(\"..\")"
   ]
  },
  {
   "cell_type": "code",
   "execution_count": 3,
   "id": "dff224ce",
   "metadata": {},
   "outputs": [
    {
     "name": "stderr",
     "output_type": "stream",
     "text": [
      "/home/sizheree/.conda/envs/car-racing/lib/python3.7/site-packages/tqdm/auto.py:21: TqdmWarning: IProgress not found. Please update jupyter and ipywidgets. See https://ipywidgets.readthedocs.io/en/stable/user_install.html\n",
      "  from .autonotebook import tqdm as notebook_tqdm\n"
     ]
    }
   ],
   "source": [
    "import gym\n",
    "\n",
    "from IPython import display\n",
    "import matplotlib.pyplot as plt\n",
    "%matplotlib inline\n",
    "\n",
    "import cv2\n",
    "import numpy as np\n",
    "import torch\n",
    "import torch.nn as nn\n",
    "import torch.optim as optim\n",
    "\n",
    "from lib import dqn_model\n",
    "import utils\n",
    "import envs"
   ]
  },
  {
   "cell_type": "code",
   "execution_count": 4,
   "id": "f4212c98",
   "metadata": {},
   "outputs": [],
   "source": [
    "OBSERVATION_SHAPE = (4,96,96)\n",
    "ACTIONSPACE_SIZE = 5\n",
    "REPLAY_SIZE = 10000"
   ]
  },
  {
   "cell_type": "markdown",
   "id": "fff09967",
   "metadata": {},
   "source": [
    "## 每行代码运行时间测试"
   ]
  },
  {
   "cell_type": "code",
   "execution_count": 5,
   "id": "72f11b60",
   "metadata": {},
   "outputs": [],
   "source": [
    "env = envs.GoodWrapper(gym.make('CarRacing-v2',continuous=False, render_mode=\"rgb_array\"))\n",
    "net = dqn_model.DQN(OBSERVATION_SHAPE, ACTIONSPACE_SIZE)\n",
    "tgt_net = dqn_model.DQN(OBSERVATION_SHAPE, ACTIONSPACE_SIZE)\n",
    "buffer = utils.ExperienceBuffer(REPLAY_SIZE)\n",
    "agent = envs.Agent(env, buffer)\n",
    "checkpoint = torch.load('models/CarRacing-v2-best_tar.dat')\n",
    "net.load_state_dict(checkpoint)\n",
    "tgt_net.load_state_dict(checkpoint)\n",
    "agent._reset()"
   ]
  },
  {
   "cell_type": "code",
   "execution_count": 6,
   "id": "de3112fc",
   "metadata": {},
   "outputs": [],
   "source": [
    "def play_200step():\n",
    "    agent._reset()\n",
    "    img = plt.imshow(env.debug_img) # only call this once\n",
    "    # 运行 200 playstep‘\n",
    "    fig = plt.gcf()\n",
    "    for _ in range(200): \n",
    "        agent.play_step(net)\n",
    "        img.set_data(env.debug_img)\n",
    "        display.display(fig)\n",
    "        display.clear_output(wait=True)"
   ]
  },
  {
   "cell_type": "code",
   "execution_count": 7,
   "id": "816a13ea",
   "metadata": {},
   "outputs": [
    {
     "name": "stdout",
     "output_type": "stream",
     "text": [
      "Timer unit: 1e-09 s\n",
      "\n",
      "Total time: 87.7125 s\n",
      "File: /tmp/ipykernel_6083/1502626435.py\n",
      "Function: play_200step at line 1\n",
      "\n",
      "Line #      Hits         Time  Per Hit   % Time  Line Contents\n",
      "==============================================================\n",
      "     1                                           def play_200step():\n",
      "     2         1   63487924.0    6e+07      0.1      agent._reset()\n",
      "     3         1   46293313.0    5e+07      0.1      img = plt.imshow(env.debug_img) # only call this once\n",
      "     4                                               # 运行 200 playstep‘\n",
      "     5         1       4799.0   4799.0      0.0      fig = plt.gcf()\n",
      "     6       201     384293.0   1911.9      0.0      for _ in range(200): \n",
      "     7       200        5e+10    3e+08     61.8          agent.play_step(net)\n",
      "     8       200  100899641.0 504498.2      0.1          img.set_data(env.debug_img)\n",
      "     9       200        3e+10    2e+08     37.6          display.display(fig)\n",
      "    10       200  340060762.0    2e+06      0.4          display.clear_output(wait=True)\n",
      "\n"
     ]
    },
    {
     "data": {
      "image/png": "[encoded data removed]",
      "text/plain": [
       "<Figure size 640x480 with 1 Axes>"
      ]
     },
     "metadata": {},
     "output_type": "display_data"
    }
   ],
   "source": [
    "lp = LineProfiler()\n",
    "lp_wrapper = lp(play_200step)\n",
    "lp_wrapper()\n",
    "lp.print_stats()"
   ]
  },
  {
   "cell_type": "code",
   "execution_count": null,
   "id": "1d0061d5",
   "metadata": {},
   "outputs": [],
   "source": []
  }
 ],
 "metadata": {
  "kernelspec": {
   "display_name": "car-racing",
   "language": "python",
   "name": "car-racing"
  },
  "language_info": {
   "codemirror_mode": {
    "name": "ipython",
    "version": 3
   },
   "file_extension": ".py",
   "mimetype": "text/x-python",
   "name": "python",
   "nbconvert_exporter": "python",
   "pygments_lexer": "ipython3",
   "version": "3.7.16"
  }
 },
 "nbformat": 4,
 "nbformat_minor": 5
}
