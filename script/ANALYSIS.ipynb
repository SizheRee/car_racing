{
 "cells": [
  {
   "cell_type": "code",
   "execution_count": 11,
   "id": "eddc1e16",
   "metadata": {},
   "outputs": [],
   "source": [
    "from line_profiler import LineProfiler\n",
    "import random\n",
    "profiler = LineProfiler()"
   ]
  },
  {
   "cell_type": "code",
   "execution_count": 2,
   "id": "8c3aa663",
   "metadata": {},
   "outputs": [],
   "source": [
    "import os\n",
    "os.chdir(\"..\")"
   ]
  },
  {
   "cell_type": "code",
   "execution_count": 3,
   "id": "1208af16",
   "metadata": {},
   "outputs": [
    {
     "name": "stderr",
     "output_type": "stream",
     "text": [
      "/home/sizheree/.conda/envs/car-racing/lib/python3.7/site-packages/tqdm/auto.py:21: TqdmWarning: IProgress not found. Please update jupyter and ipywidgets. See https://ipywidgets.readthedocs.io/en/stable/user_install.html\n",
      "  from .autonotebook import tqdm as notebook_tqdm\n"
     ]
    }
   ],
   "source": [
    "import gym\n",
    "\n",
    "from IPython import display\n",
    "import matplotlib.pyplot as plt\n",
    "%matplotlib inline\n",
    "\n",
    "import cv2\n",
    "import numpy as np\n",
    "import torch\n",
    "import torch.nn as nn\n",
    "import torch.optim as optim\n",
    "\n",
    "from lib import dqn_model\n",
    "import utils\n",
    "import envs"
   ]
  },
  {
   "cell_type": "code",
   "execution_count": 4,
   "id": "fdc472ed",
   "metadata": {},
   "outputs": [],
   "source": [
    "OBSERVATION_SHAPE = (4,96,96)\n",
    "ACTIONSPACE_SIZE = 5\n",
    "REPLAY_SIZE = 10000"
   ]
  },
  {
   "cell_type": "markdown",
   "id": "cad761d2",
   "metadata": {},
   "source": [
    "## 运行时间测试"
   ]
  },
  {
   "cell_type": "code",
   "execution_count": 15,
   "id": "8c163066",
   "metadata": {},
   "outputs": [],
   "source": [
    "env = envs.GoodWrapper(gym.make('CarRacing-v2',continuous=False, render_mode=\"rgb_array\"))\n",
    "net = dqn_model.DQN(OBSERVATION_SHAPE, ACTIONSPACE_SIZE)\n",
    "tgt_net = dqn_model.DQN(OBSERVATION_SHAPE, ACTIONSPACE_SIZE)\n",
    "buffer = utils.ExperienceBuffer(REPLAY_SIZE)\n",
    "agent = envs.Agent(env, buffer)\n",
    "checkpoint = torch.load('models/CarRacing-v2-best_tar.dat')\n",
    "net.load_state_dict(checkpoint)\n",
    "tgt_net.load_state_dict(checkpoint)\n",
    "agent._reset()"
   ]
  },
  {
   "cell_type": "code",
   "execution_count": 16,
   "id": "d61da743",
   "metadata": {},
   "outputs": [],
   "source": [
    "def play_200step():\n",
    "    img = plt.imshow(env.debug_img) # only call this once\n",
    "    # 运行 200 playstep\n",
    "    for _ in range(200): \n",
    "        agent.play_step(net)\n",
    "        img.set_data(env.debug_img)\n",
    "        display.display(plt.gcf())\n",
    "        display.clear_output(wait=True)\n",
    "        action = env.action_space.sample()\n",
    "        env.step(action)"
   ]
  },
  {
   "cell_type": "code",
   "execution_count": null,
   "id": "e4989733",
   "metadata": {},
   "outputs": [
    {
     "data": {
      "image/png": "[encoded data removed]",
      "text/plain": [
       "<Figure size 640x480 with 1 Axes>"
      ]
     },
     "metadata": {},
     "output_type": "display_data"
    }
   ],
   "source": [
    "lp = LineProfiler()\n",
    "lp_wrapper = lp(play_200step)\n",
    "lp_wrapper()\n",
    "lp.print_stats()"
   ]
  },
  {
   "cell_type": "code",
   "execution_count": null,
   "id": "b6b8fffa",
   "metadata": {},
   "outputs": [],
   "source": []
  }
 ],
 "metadata": {
  "kernelspec": {
   "display_name": "car-racing",
   "language": "python",
   "name": "car-racing"
  },
  "language_info": {
   "codemirror_mode": {
    "name": "ipython",
    "version": 3
   },
   "file_extension": ".py",
   "mimetype": "text/x-python",
   "name": "python",
   "nbconvert_exporter": "python",
   "pygments_lexer": "ipython3",
   "version": "3.7.16"
  }
 },
 "nbformat": 4,
 "nbformat_minor": 5
}
