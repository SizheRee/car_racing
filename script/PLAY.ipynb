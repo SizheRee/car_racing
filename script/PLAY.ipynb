{
 "cells": [
  {
   "cell_type": "code",
   "execution_count": 1,
   "id": "5a98e8cb",
   "metadata": {},
   "outputs": [],
   "source": [
    "import os\n",
    "os.chdir(\"..\")"
   ]
  },
  {
   "cell_type": "code",
   "execution_count": 2,
   "id": "b299a2f0",
   "metadata": {},
   "outputs": [
    {
     "name": "stderr",
     "output_type": "stream",
     "text": [
      "/home/sizheree/.conda/envs/car-racing/lib/python3.7/site-packages/tqdm/auto.py:21: TqdmWarning: IProgress not found. Please update jupyter and ipywidgets. See https://ipywidgets.readthedocs.io/en/stable/user_install.html\n",
      "  from .autonotebook import tqdm as notebook_tqdm\n"
     ]
    }
   ],
   "source": [
    "import gym\n",
    "\n",
    "from IPython import display\n",
    "import matplotlib.pyplot as plt\n",
    "%matplotlib inline\n",
    "\n",
    "import cv2\n",
    "import numpy as np\n",
    "import torch\n",
    "import torch.nn as nn\n",
    "import torch.optim as optim\n",
    "\n",
    "from lib import dqn_model\n",
    "import utils\n",
    "import envs"
   ]
  },
  {
   "cell_type": "code",
   "execution_count": 3,
   "id": "cf540f5f",
   "metadata": {},
   "outputs": [],
   "source": [
    "OBSERVATION_SHAPE = (4,96,96)\n",
    "ACTIONSPACE_SIZE = 5\n",
    "REPLAY_SIZE = 10000"
   ]
  },
  {
   "cell_type": "markdown",
   "id": "47168a38",
   "metadata": {},
   "source": [
    "### 随机策略 (on cpu)"
   ]
  },
  {
   "cell_type": "code",
   "execution_count": 4,
   "id": "839b3b12",
   "metadata": {},
   "outputs": [],
   "source": [
    "env = envs.GoodWrapper(gym.make('CarRacing-v2',continuous=False, render_mode=\"rgb_array\"))\n",
    "net = dqn_model.DQN(OBSERVATION_SHAPE, ACTIONSPACE_SIZE)\n",
    "tgt_net = dqn_model.DQN(OBSERVATION_SHAPE, ACTIONSPACE_SIZE)\n",
    "buffer = utils.ExperienceBuffer(REPLAY_SIZE)\n",
    "agent = envs.Agent(env, buffer)"
   ]
  },
  {
   "cell_type": "code",
   "execution_count": 5,
   "id": "020dfe00",
   "metadata": {},
   "outputs": [
    {
     "data": {
      "image/png": "[encoded data removed]",
      "text/plain": [
       "<Figure size 640x480 with 1 Axes>"
      ]
     },
     "metadata": {},
     "output_type": "display_data"
    }
   ],
   "source": [
    "agent._reset()\n",
    "img = plt.imshow(env.debug_img) # only call this once\n",
    "# 运行 50 playstep\n",
    "for _ in range(50):\n",
    "    agent.play_step(net)\n",
    "    img.set_data(env.debug_img)\n",
    "    display.display(plt.gcf())\n",
    "    display.clear_output(wait=True)\n",
    "    action = env.action_space.sample()\n",
    "    env.step(action)"
   ]
  },
  {
   "cell_type": "markdown",
   "id": "9d5df580",
   "metadata": {},
   "source": [
    "### 训好的模型"
   ]
  },
  {
   "cell_type": "code",
   "execution_count": 6,
   "id": "06939e1d",
   "metadata": {},
   "outputs": [],
   "source": [
    "env = envs.GoodWrapper(gym.make('CarRacing-v2',continuous=False, render_mode=\"rgb_array\"))\n",
    "net = dqn_model.DQN(OBSERVATION_SHAPE, ACTIONSPACE_SIZE)\n",
    "tgt_net = dqn_model.DQN(OBSERVATION_SHAPE, ACTIONSPACE_SIZE)\n",
    "buffer = utils.ExperienceBuffer(REPLAY_SIZE)\n",
    "agent = envs.Agent(env, buffer)"
   ]
  },
  {
   "cell_type": "code",
   "execution_count": 7,
   "id": "74381896",
   "metadata": {},
   "outputs": [
    {
     "data": {
      "text/plain": [
       "<All keys matched successfully>"
      ]
     },
     "execution_count": 7,
     "metadata": {},
     "output_type": "execute_result"
    }
   ],
   "source": [
    "checkpoint = torch.load('models/CarRacing-v2-best_tar.dat')\n",
    "net.load_state_dict(checkpoint)\n",
    "tgt_net.load_state_dict(checkpoint)"
   ]
  },
  {
   "cell_type": "code",
   "execution_count": 8,
   "id": "45355c80",
   "metadata": {},
   "outputs": [
    {
     "data": {
      "image/png": "[encoded data removed]",
      "text/plain": [
       "<Figure size 640x480 with 1 Axes>"
      ]
     },
     "metadata": {},
     "output_type": "display_data"
    }
   ],
   "source": [
    "agent._reset()\n",
    "img = plt.imshow(env.debug_img) # only call this once\n",
    "# 运行 200 playstep\n",
    "for _ in range(200): \n",
    "    agent.play_step(net)\n",
    "    img.set_data(env.debug_img)\n",
    "    display.display(plt.gcf())\n",
    "    display.clear_output(wait=True)\n",
    "    action = env.action_space.sample()\n",
    "    env.step(action)"
   ]
  },
  {
   "cell_type": "code",
   "execution_count": null,
   "id": "ff5ff3b9",
   "metadata": {},
   "outputs": [],
   "source": []
  },
  {
   "cell_type": "code",
   "execution_count": null,
   "id": "9ea71def",
   "metadata": {},
   "outputs": [],
   "source": []
  }
 ],
 "metadata": {
  "kernelspec": {
   "display_name": "car-racing",
   "language": "python",
   "name": "car-racing"
  },
  "language_info": {
   "codemirror_mode": {
    "name": "ipython",
    "version": 3
   },
   "file_extension": ".py",
   "mimetype": "text/x-python",
   "name": "python",
   "nbconvert_exporter": "python",
   "pygments_lexer": "ipython3",
   "version": "3.7.16"
  }
 },
 "nbformat": 4,
 "nbformat_minor": 5
}
