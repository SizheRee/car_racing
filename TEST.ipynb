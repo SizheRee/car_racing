{
 "cells": [
  {
   "cell_type": "code",
   "execution_count": null,
   "id": "b299a2f0",
   "metadata": {},
   "outputs": [],
   "source": [
    "import gym\n",
    "\n",
    "from IPython import display\n",
    "import matplotlib.pyplot as plt\n",
    "%matplotlib inline\n",
    "\n",
    "import cv2\n",
    "import numpy as np\n",
    "import torch\n",
    "import torch.nn as nn\n",
    "import torch.optim as optim"
   ]
  },
  {
   "cell_type": "code",
   "execution_count": null,
   "id": "caf7f0d1",
   "metadata": {},
   "outputs": [],
   "source": [
    "device = 'cpu'\n",
    "LEARNING_RATE = 1e-4"
   ]
  },
  {
   "cell_type": "code",
   "execution_count": null,
   "id": "83b2e3a6",
   "metadata": {},
   "outputs": [],
   "source": [
    "import os\n",
    "os.chdir(\"/home/sizheree/workspace/car_racing/\")"
   ]
  },
  {
   "cell_type": "code",
   "execution_count": null,
   "id": "7e9eae68",
   "metadata": {},
   "outputs": [],
   "source": [
    "import importlib"
   ]
  },
  {
   "cell_type": "code",
   "execution_count": null,
   "id": "56e7bbd9",
   "metadata": {},
   "outputs": [],
   "source": [
    "from lib import dqn_model\n",
    "import envs\n",
    "import utils\n",
    "import train"
   ]
  },
  {
   "cell_type": "code",
   "execution_count": null,
   "id": "6517c658",
   "metadata": {},
   "outputs": [],
   "source": [
    "importlib.reload(envs)\n",
    "importlib.reload(dqn_model)\n",
    "importlib.reload(utils)\n",
    "importlib.reload(train)"
   ]
  },
  {
   "cell_type": "code",
   "execution_count": null,
   "id": "51a83561",
   "metadata": {},
   "outputs": [],
   "source": [
    "env = envs.GoodWrapper(gym.make('CarRacing-v2',continuous=False, render_mode=\"rgb_array\"))"
   ]
  },
  {
   "cell_type": "code",
   "execution_count": null,
   "id": "ad4f75a4",
   "metadata": {},
   "outputs": [],
   "source": [
    "net = dqn_model.DQN((4,96,96), 5).to(device)"
   ]
  },
  {
   "cell_type": "code",
   "execution_count": null,
   "id": "f4bc47eb",
   "metadata": {},
   "outputs": [],
   "source": [
    "tgt_net = dqn_model.DQN((4,96,96), 5).to(device)"
   ]
  },
  {
   "cell_type": "code",
   "execution_count": null,
   "id": "959afb8a",
   "metadata": {},
   "outputs": [],
   "source": [
    "optimizer = optim.Adam(net.parameters(), lr=LEARNING_RATE)"
   ]
  },
  {
   "cell_type": "code",
   "execution_count": null,
   "id": "0d02fa58",
   "metadata": {},
   "outputs": [],
   "source": [
    "buffer = utils.ExperienceBuffer(100)"
   ]
  },
  {
   "cell_type": "code",
   "execution_count": null,
   "id": "c9beb568",
   "metadata": {},
   "outputs": [],
   "source": [
    "agent = envs.Agent(env, buffer)"
   ]
  },
  {
   "cell_type": "code",
   "execution_count": null,
   "id": "020dfe00",
   "metadata": {},
   "outputs": [],
   "source": [
    "env.reset()\n",
    "img = plt.imshow(env.debug_img) # only call this once\n",
    "for _ in range(25):\n",
    "    agent.play_step(net)\n",
    "#     plt.imshow(env.debug_img)\n",
    "    img.set_data(env.debug_img)\n",
    "    display.display(plt.gcf())\n",
    "    display.clear_output(wait=True)\n",
    "    action = env.action_space.sample()\n",
    "    env.step(action)"
   ]
  },
  {
   "cell_type": "code",
   "execution_count": null,
   "id": "fe7d2c5f",
   "metadata": {},
   "outputs": [],
   "source": [
    "loss.backward()"
   ]
  },
  {
   "cell_type": "code",
   "execution_count": null,
   "id": "06939e1d",
   "metadata": {},
   "outputs": [],
   "source": [
    "optimizer.step()"
   ]
  },
  {
   "cell_type": "code",
   "execution_count": null,
   "id": "74381896",
   "metadata": {},
   "outputs": [],
   "source": []
  }
 ],
 "metadata": {
  "kernelspec": {
   "display_name": "car-racing",
   "language": "python",
   "name": "car-racing"
  },
  "language_info": {
   "codemirror_mode": {
    "name": "ipython",
    "version": 3
   },
   "file_extension": ".py",
   "mimetype": "text/x-python",
   "name": "python",
   "nbconvert_exporter": "python",
   "pygments_lexer": "ipython3",
   "version": "3.7.16"
  }
 },
 "nbformat": 4,
 "nbformat_minor": 5
}
